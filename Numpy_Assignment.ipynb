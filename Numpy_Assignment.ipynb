{
  "nbformat": 4,
  "nbformat_minor": 0,
  "metadata": {
    "colab": {
      "provenance": []
    },
    "kernelspec": {
      "name": "python3",
      "display_name": "Python 3"
    },
    "language_info": {
      "name": "python"
    }
  },
  "cells": [
    {
      "cell_type": "code",
      "source": [
        "import numpy as np\n",
        "list_ = [ '1' , '2' ,'3' , '4' , '5' ]\n",
        "array_list = np.array(object = list_)"
      ],
      "metadata": {
        "id": "B7PsQN8sgXf1"
      },
      "execution_count": 2,
      "outputs": []
    },
    {
      "cell_type": "markdown",
      "source": [
        "# **Q1**\n",
        "\n",
        "**Is there any difference in the data type of variables list_ and array_list? If there is then write a code to print the data types of both the variables.**\n",
        "\n",
        "**Answer:**\n",
        "\n",
        "Yes, there is a difference in the data types of the variables list_ and array_list. The variable list_ is a Python list, while array_list is a NumPy array.\n"
      ],
      "metadata": {
        "id": "0nN8oOPHcJoN"
      }
    },
    {
      "cell_type": "code",
      "source": [
        "type(list_)"
      ],
      "metadata": {
        "colab": {
          "base_uri": "https://localhost:8080/"
        },
        "id": "N4M36YkzfmDs",
        "outputId": "26f1eb85-c13d-4ce8-9e61-7c8c9d2bdc4a"
      },
      "execution_count": 3,
      "outputs": [
        {
          "output_type": "execute_result",
          "data": {
            "text/plain": [
              "list"
            ]
          },
          "metadata": {},
          "execution_count": 3
        }
      ]
    },
    {
      "cell_type": "code",
      "source": [
        "type(array_list )"
      ],
      "metadata": {
        "colab": {
          "base_uri": "https://localhost:8080/"
        },
        "id": "AYGKt9SEgtHv",
        "outputId": "dffcdc33-c356-4d9e-902a-66da03e7eb32"
      },
      "execution_count": 4,
      "outputs": [
        {
          "output_type": "execute_result",
          "data": {
            "text/plain": [
              "numpy.ndarray"
            ]
          },
          "metadata": {},
          "execution_count": 4
        }
      ]
    },
    {
      "cell_type": "markdown",
      "source": [
        "# **Q2**\n",
        "\n",
        "**Write a code to print the data type of each and every element of both the variables list_ and arra_list.**\n",
        "\n",
        "\n",
        "**Answer:**\n"
      ],
      "metadata": {
        "id": "zv4ERfdCcVO0"
      }
    },
    {
      "cell_type": "code",
      "source": [
        "print(\"Data type of elements in list_:\")\n",
        "for element in list_:\n",
        "    print(type(element))\n",
        "\n",
        "print(\"Data type of elements in array_list:\")\n",
        "for element in array_list:\n",
        "    print(type(element))"
      ],
      "metadata": {
        "colab": {
          "base_uri": "https://localhost:8080/"
        },
        "id": "LS_4eW_bhgDo",
        "outputId": "86f05f6d-106a-4bf9-8e85-8fb63860756f"
      },
      "execution_count": 5,
      "outputs": [
        {
          "output_type": "stream",
          "name": "stdout",
          "text": [
            "Data type of elements in list_:\n",
            "<class 'str'>\n",
            "<class 'str'>\n",
            "<class 'str'>\n",
            "<class 'str'>\n",
            "<class 'str'>\n",
            "Data type of elements in array_list:\n",
            "<class 'numpy.str_'>\n",
            "<class 'numpy.str_'>\n",
            "<class 'numpy.str_'>\n",
            "<class 'numpy.str_'>\n",
            "<class 'numpy.str_'>\n"
          ]
        }
      ]
    },
    {
      "cell_type": "markdown",
      "source": [
        "# **Q3**\n",
        "\n",
        "Considering the following changes in the variable, array_list:\n",
        "\n",
        "    array_list = np.array(object = list_, dtype = int)\n",
        "Will there be any difference in the data type of the elements present in both the variables, list_ and\n",
        "arra_list? If so then print the data types of each and every element present in both the variables, list_\n",
        "and arra_list.\n",
        "\n",
        "    \n",
        "**Answer:**\n"
      ],
      "metadata": {
        "id": "B03jhNgtcUTQ"
      }
    },
    {
      "cell_type": "code",
      "source": [
        "list_ = ['1', '2', '3', '4', '5']\n",
        "array_list = np.array(object=list_, dtype=int)\n",
        "\n",
        "print(\"Data type of elements in list_:\")\n",
        "for element in list_:\n",
        "    print(type(element))\n",
        "\n",
        "print(\"Data type of elements in array_list:\")\n",
        "for element in array_list:\n",
        "    print(type(element))"
      ],
      "metadata": {
        "id": "Ea_1QHTEiOhE",
        "colab": {
          "base_uri": "https://localhost:8080/"
        },
        "outputId": "146a2b05-7ef5-452a-92d2-0249259b450d"
      },
      "execution_count": 6,
      "outputs": [
        {
          "output_type": "stream",
          "name": "stdout",
          "text": [
            "Data type of elements in list_:\n",
            "<class 'str'>\n",
            "<class 'str'>\n",
            "<class 'str'>\n",
            "<class 'str'>\n",
            "<class 'str'>\n",
            "Data type of elements in array_list:\n",
            "<class 'numpy.int64'>\n",
            "<class 'numpy.int64'>\n",
            "<class 'numpy.int64'>\n",
            "<class 'numpy.int64'>\n",
            "<class 'numpy.int64'>\n"
          ]
        }
      ]
    },
    {
      "cell_type": "markdown",
      "source": [
        "# **Q4**\n",
        "\n",
        "Consider the below code to answer further questions:\n",
        "import numpy as np\n",
        "\n",
        "    num_list = [ [ 1 , 2 , 3 ] , [ 4 , 5 , 6 ] ]\n",
        "    num_array = np.array(object = num_list)\n",
        "\n",
        "Write a code to find the following characteristics of variable, num_array:\n",
        "(i) shape\n",
        "(ii) size\n",
        "\n",
        "**Answer:**\n",
        "\n"
      ],
      "metadata": {
        "id": "liCQbUQqcWEO"
      }
    },
    {
      "cell_type": "code",
      "source": [
        "num_list = [[1, 2, 3], [4, 5, 6]]\n",
        "num_array = np.array(object=num_list)"
      ],
      "metadata": {
        "id": "eYM4T-xrjsC6"
      },
      "execution_count": 7,
      "outputs": []
    },
    {
      "cell_type": "code",
      "source": [
        "print(\"Shape of num_array:\", num_array.shape)\n",
        "\n",
        "print(\"Size of num_array:\", num_array.size)"
      ],
      "metadata": {
        "colab": {
          "base_uri": "https://localhost:8080/"
        },
        "id": "Gn516rfl0Pz4",
        "outputId": "195bc30a-89eb-46d2-b486-c28de6a325bd"
      },
      "execution_count": 8,
      "outputs": [
        {
          "output_type": "stream",
          "name": "stdout",
          "text": [
            "Shape of num_array: (2, 3)\n",
            "Size of num_array: 6\n"
          ]
        }
      ]
    },
    {
      "cell_type": "markdown",
      "source": [
        "\n",
        "# **Q5**\n",
        "\n",
        "**Write a code to create numpy array of 3*3 matrix containing zeros only, using a numpy array creation function**\n",
        "\n",
        "**Answer:**\n"
      ],
      "metadata": {
        "id": "_xz9rQ_GcXC5"
      }
    },
    {
      "cell_type": "code",
      "source": [
        "zeros_array = np.zeros((3, 3))\n",
        "print(zeros_array)"
      ],
      "metadata": {
        "colab": {
          "base_uri": "https://localhost:8080/"
        },
        "id": "G1p3rIMEko5L",
        "outputId": "e49c6355-aca2-4329-829a-f092c9c87161"
      },
      "execution_count": 9,
      "outputs": [
        {
          "output_type": "stream",
          "name": "stdout",
          "text": [
            "[[0. 0. 0.]\n",
            " [0. 0. 0.]\n",
            " [0. 0. 0.]]\n"
          ]
        }
      ]
    },
    {
      "cell_type": "markdown",
      "source": [
        "# **Q6**\n",
        "\n",
        "**Create an identity matrix of shape (5,5) using numpy functions?\n",
        "[Hint: An identity matrix is a matrix containing 1 diagonally and other elements will be 0.]**\n",
        "\n",
        "**Answer:**\n"
      ],
      "metadata": {
        "id": "7LtVit8ijiV9"
      }
    },
    {
      "cell_type": "code",
      "source": [
        "identity_matrix = np.identity(5)\n",
        "\n",
        "print(identity_matrix)"
      ],
      "metadata": {
        "colab": {
          "base_uri": "https://localhost:8080/"
        },
        "id": "4VJzSDs404A9",
        "outputId": "c3a49f54-3474-4bf4-95b0-c479e3e92e45"
      },
      "execution_count": 10,
      "outputs": [
        {
          "output_type": "stream",
          "name": "stdout",
          "text": [
            "[[1. 0. 0. 0. 0.]\n",
            " [0. 1. 0. 0. 0.]\n",
            " [0. 0. 1. 0. 0.]\n",
            " [0. 0. 0. 1. 0.]\n",
            " [0. 0. 0. 0. 1.]]\n"
          ]
        }
      ]
    }
  ]
}